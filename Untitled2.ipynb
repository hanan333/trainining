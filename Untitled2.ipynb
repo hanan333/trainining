{
 "cells": [
  {
   "cell_type": "code",
   "execution_count": 1,
   "id": "8c7f181e",
   "metadata": {},
   "outputs": [
    {
     "name": "stdout",
     "output_type": "stream",
     "text": [
      "[1, 5, 'Ahmed']\n",
      "[2.4, 2.5]\n",
      "[1, 2, 3]\n"
     ]
    }
   ],
   "source": [
    "numList=[1,2,3]\n",
    "floatList=[2.4 ,2.5]\n",
    "list1=[1,5,\"Ahmed\"]\n",
    "print(list1)\n",
    "print(floatList)\n",
    "print(numList)"
   ]
  },
  {
   "cell_type": "code",
   "execution_count": null,
   "id": "09277704",
   "metadata": {},
   "outputs": [],
   "source": []
  }
 ],
 "metadata": {
  "kernelspec": {
   "display_name": "Python 3 (ipykernel)",
   "language": "python",
   "name": "python3"
  },
  "language_info": {
   "codemirror_mode": {
    "name": "ipython",
    "version": 3
   },
   "file_extension": ".py",
   "mimetype": "text/x-python",
   "name": "python",
   "nbconvert_exporter": "python",
   "pygments_lexer": "ipython3",
   "version": "3.9.7"
  }
 },
 "nbformat": 4,
 "nbformat_minor": 5
}
