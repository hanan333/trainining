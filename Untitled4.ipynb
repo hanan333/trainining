{
 "cells": [
  {
   "cell_type": "code",
   "execution_count": 1,
   "id": "08923826",
   "metadata": {},
   "outputs": [],
   "source": [
    "# loop control"
   ]
  },
  {
   "cell_type": "code",
   "execution_count": 2,
   "id": "c412c2dd",
   "metadata": {},
   "outputs": [
    {
     "name": "stdout",
     "output_type": "stream",
     "text": [
      "h\n",
      "a\n",
      "n\n",
      "a\n",
      "n\n"
     ]
    }
   ],
   "source": [
    " word='hanan'\n",
    "for c in word:\n",
    "    print(c)"
   ]
  },
  {
   "cell_type": "code",
   "execution_count": 5,
   "id": "f68761c9",
   "metadata": {},
   "outputs": [
    {
     "name": "stdout",
     "output_type": "stream",
     "text": [
      "h\n",
      "a\n",
      "n\n",
      "a\n",
      "n\n",
      "S\n",
      "a\n"
     ]
    }
   ],
   "source": [
    "#donot complete\n",
    "word='hananSalah'\n",
    "for c in word:\n",
    "    if c=='l':\n",
    "        break\n",
    "    print(c)"
   ]
  },
  {
   "cell_type": "code",
   "execution_count": 7,
   "id": "0393259d",
   "metadata": {},
   "outputs": [
    {
     "name": "stdout",
     "output_type": "stream",
     "text": [
      "h\n",
      "a\n",
      "n\n",
      "a\n",
      "n\n",
      "S\n",
      "a\n",
      "a\n",
      "h\n"
     ]
    }
   ],
   "source": [
    "#pass letter\n",
    "ord='hananSalah'\n",
    "for c in word:\n",
    "    if c=='l':\n",
    "        pass\n",
    "    else:\n",
    "        print(c)"
   ]
  },
  {
   "cell_type": "code",
   "execution_count": null,
   "id": "596c4784",
   "metadata": {},
   "outputs": [],
   "source": []
  }
 ],
 "metadata": {
  "kernelspec": {
   "display_name": "Python 3 (ipykernel)",
   "language": "python",
   "name": "python3"
  },
  "language_info": {
   "codemirror_mode": {
    "name": "ipython",
    "version": 3
   },
   "file_extension": ".py",
   "mimetype": "text/x-python",
   "name": "python",
   "nbconvert_exporter": "python",
   "pygments_lexer": "ipython3",
   "version": "3.9.7"
  }
 },
 "nbformat": 4,
 "nbformat_minor": 5
}
