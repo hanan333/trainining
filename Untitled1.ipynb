{
 "cells": [
  {
   "cell_type": "code",
   "execution_count": null,
   "id": "3b0196c0",
   "metadata": {},
   "outputs": [],
   "source": [
    "e=input(\"please enter your number\")"
   ]
  },
  {
   "cell_type": "code",
   "execution_count": null,
   "id": "2ac17f14",
   "metadata": {},
   "outputs": [],
   "source": [
    "e=input(\"please enter your number\")"
   ]
  },
  {
   "cell_type": "code",
   "execution_count": null,
   "id": "2d3f2000",
   "metadata": {},
   "outputs": [],
   "source": [
    "print(\"yasalm\"+ \" \"\"yahoo\")"
   ]
  },
  {
   "cell_type": "code",
   "execution_count": null,
   "id": "98c5b8d8",
   "metadata": {},
   "outputs": [],
   "source": [
    "f=10"
   ]
  },
  {
   "cell_type": "code",
   "execution_count": null,
   "id": "dd43976f",
   "metadata": {},
   "outputs": [],
   "source": [
    "type(f)"
   ]
  },
  {
   "cell_type": "code",
   "execution_count": null,
   "id": "7d76f59b",
   "metadata": {},
   "outputs": [],
   "source": [
    "e=float(10)"
   ]
  },
  {
   "cell_type": "code",
   "execution_count": null,
   "id": "8d61b5d9",
   "metadata": {},
   "outputs": [],
   "source": [
    "type(e)"
   ]
  },
  {
   "cell_type": "code",
   "execution_count": null,
   "id": "641fbbae",
   "metadata": {},
   "outputs": [],
   "source": [
    "f"
   ]
  },
  {
   "cell_type": "code",
   "execution_count": null,
   "id": "6b8b17c6",
   "metadata": {},
   "outputs": [],
   "source": [
    "g=5"
   ]
  },
  {
   "cell_type": "code",
   "execution_count": null,
   "id": "cd24ecda",
   "metadata": {},
   "outputs": [],
   "source": [
    "type(g)"
   ]
  },
  {
   "cell_type": "code",
   "execution_count": null,
   "id": "2e56323f",
   "metadata": {},
   "outputs": [],
   "source": [
    "g=int(g)"
   ]
  },
  {
   "cell_type": "code",
   "execution_count": null,
   "id": "3be11cfa",
   "metadata": {},
   "outputs": [],
   "source": [
    "type(g)"
   ]
  },
  {
   "cell_type": "code",
   "execution_count": null,
   "id": "adba6dbc",
   "metadata": {},
   "outputs": [],
   "source": [
    "print(f+g)"
   ]
  },
  {
   "cell_type": "code",
   "execution_count": null,
   "id": "43b73cfb",
   "metadata": {},
   "outputs": [],
   "source": [
    "complex(4)"
   ]
  },
  {
   "cell_type": "code",
   "execution_count": null,
   "id": "d8711997",
   "metadata": {},
   "outputs": [],
   "source": [
    "str(9000)"
   ]
  },
  {
   "cell_type": "code",
   "execution_count": null,
   "id": "e381800b",
   "metadata": {},
   "outputs": [],
   "source": [
    "# read ist number\n",
    "num1= input('plz Enter Ist number')\n",
    "# read 2nd number\n",
    "num2= input('plz Enter 2nd number')\n",
    "# convert numbers from str to float\n",
    "num1=float(num1)\n",
    "num2=float(num2)\n",
    "# print sum\n",
    "print('sum =' ,num1 +num2)\n",
    "#print sub\n",
    "print('sub =' ,num1 - num2)\n",
    "# print multi\n",
    "print('Multi =' ,num1 * num2)"
   ]
  },
  {
   "cell_type": "markdown",
   "id": "76b7ebe9",
   "metadata": {},
   "source": [
    "#### "
   ]
  },
  {
   "cell_type": "code",
   "execution_count": null,
   "id": "f6f5511e",
   "metadata": {},
   "outputs": [],
   "source": [
    "5>4"
   ]
  },
  {
   "cell_type": "code",
   "execution_count": null,
   "id": "1cb6c815",
   "metadata": {},
   "outputs": [],
   "source": [
    "5==4"
   ]
  },
  {
   "cell_type": "code",
   "execution_count": null,
   "id": "04463ff3",
   "metadata": {},
   "outputs": [],
   "source": [
    "5 !=4"
   ]
  },
  {
   "cell_type": "markdown",
   "id": "a59eba5d",
   "metadata": {},
   "source": [
    "5 is not 4"
   ]
  },
  {
   "cell_type": "code",
   "execution_count": null,
   "id": "ae35a2c4",
   "metadata": {},
   "outputs": [],
   "source": [
    "5>4 and 6>4"
   ]
  },
  {
   "cell_type": "code",
   "execution_count": null,
   "id": "2e4f7a6f",
   "metadata": {},
   "outputs": [],
   "source": [
    "# read age\n",
    "age= input(\"please enter Your Age :\")\n",
    "gender= input(\"please enter Your gender :\")\n",
    "# convert age\n",
    "age= float(age)\n",
    "# compare age\n",
    "if age >=18 and (gender == 'male' or gender =='m' ):\n",
    "    print(\"ok ya male\")\n",
    "elif age <18 and gender == 'male' :\n",
    "    print(\"Male no\")\n",
    "elif age >18 and gender == 'femal' :\n",
    "    print(\"female welcome\")\n",
    "else :\n",
    "    print(\"undefined\")\n",
    "\n"
   ]
  },
  {
   "cell_type": "code",
   "execution_count": null,
   "id": "9cf4d662",
   "metadata": {},
   "outputs": [],
   "source": [
    "num1=input(\"plase enter num1 :\")\n",
    "num2=input(\"plase enter num2 :\")\n",
    "op=input(\"please enter operation:\")\n",
    "num1=float(num1)\n",
    "num2=float(num2)\n",
    "if op == \"+\" :\n",
    "    result=num1+num2\n",
    "    print (\"sum ya gamil =\" ,result)\n",
    "elif op ==\"-\" :\n",
    "    result=num1-num2\n",
    "    print (\"sub ya hazeen =\" ,result)\n",
    "elif op ==\"*\" or op ==\"x\":\n",
    "    result=num1*num2\n",
    "    print (\"multiplication  ya gamil =\" ,result)"
   ]
  },
  {
   "cell_type": "code",
   "execution_count": 7,
   "id": "40e1695d",
   "metadata": {},
   "outputs": [
    {
     "name": "stdout",
     "output_type": "stream",
     "text": [
      "[1, 5, 'Ahmed', 'mohamed', 7, 8]\n",
      "[2.4, 2.5]\n",
      "[1, 2, 3]\n"
     ]
    },
    {
     "data": {
      "text/plain": [
       "[1, 5, 'mohamed', 7, 8]"
      ]
     },
     "execution_count": 7,
     "metadata": {},
     "output_type": "execute_result"
    }
   ],
   "source": [
    "numList=[1,2,3]\n",
    "floatList=[2.4 ,2.5]\n",
    "list1=[1,5,\"Ahmed\",\"mohamed\",7,8]u\n",
    "print(list1)\n",
    "print(floatList)\n",
    "print(numList)\n",
    "list1[2]='hanan'\n",
    "list1\n",
    "del (list1[2])\n",
    "list1\n"
   ]
  },
  {
   "cell_type": "code",
   "execution_count": 9,
   "id": "758b9018",
   "metadata": {},
   "outputs": [
    {
     "name": "stdout",
     "output_type": "stream",
     "text": [
      "['mohamed', 'ahmed', 'hassan', 'doctor', 'eng', 'prof']\n"
     ]
    },
    {
     "data": {
      "text/plain": [
       "['mohamed',\n",
       " 'ahmed',\n",
       " 'hassan',\n",
       " 'mohamed',\n",
       " 'ahmed',\n",
       " 'hassan',\n",
       " 'mohamed',\n",
       " 'ahmed',\n",
       " 'hassan']"
      ]
     },
     "execution_count": 9,
     "metadata": {},
     "output_type": "execute_result"
    }
   ],
   "source": [
    "names =['mohamed','ahmed' ,'hassan']\n",
    "jobs=['doctor','eng', 'prof']\n",
    "col=names+jobs\n",
    "print(col)\n",
    "names*3"
   ]
  },
  {
   "cell_type": "code",
   "execution_count": 10,
   "id": "18a25486",
   "metadata": {},
   "outputs": [
    {
     "data": {
      "text/plain": [
       "3"
      ]
     },
     "execution_count": 10,
     "metadata": {},
     "output_type": "execute_result"
    }
   ],
   "source": [
    "len(names)"
   ]
  },
  {
   "cell_type": "code",
   "execution_count": 12,
   "id": "2e6c6414",
   "metadata": {},
   "outputs": [
    {
     "data": {
      "text/plain": [
       "True"
      ]
     },
     "execution_count": 12,
     "metadata": {},
     "output_type": "execute_result"
    }
   ],
   "source": [
    "'mohamed' in names"
   ]
  },
  {
   "cell_type": "code",
   "execution_count": 13,
   "id": "a8ee15ee",
   "metadata": {},
   "outputs": [
    {
     "name": "stdout",
     "output_type": "stream",
     "text": [
      "not found\n"
     ]
    }
   ],
   "source": [
    "if 'hanan' in names:\n",
    "    print(\"found\")\n",
    "else :\n",
    "    print(\"not found\")"
   ]
  },
  {
   "cell_type": "code",
   "execution_count": 14,
   "id": "b4d6f90e",
   "metadata": {},
   "outputs": [
    {
     "name": "stdout",
     "output_type": "stream",
     "text": [
      "3\n",
      "9\n",
      "mohamed\n",
      "1\n",
      "ahmed\n"
     ]
    }
   ],
   "source": [
    "names =['mohamed','ahmed' ,'hassan']\n",
    "numbers=[1,3,5,7,9]\n",
    "print(len(names))\n",
    "print(max(numbers))\n",
    "print(max(names))\n",
    "print(min(numbers))\n",
    "print(min(names))"
   ]
  },
  {
   "cell_type": "code",
   "execution_count": 15,
   "id": "d398cc89",
   "metadata": {},
   "outputs": [
    {
     "name": "stdout",
     "output_type": "stream",
     "text": [
      "['mohamed', 'ahmed', 'hassan', 'huda']\n",
      "[1, 3, 5, 7, 9, 6000]\n"
     ]
    }
   ],
   "source": [
    "names.append(\"huda\")\n",
    "numbers.append(6000)\n",
    "print(names)\n",
    "print(numbers)"
   ]
  },
  {
   "cell_type": "code",
   "execution_count": 16,
   "id": "e9c87220",
   "metadata": {},
   "outputs": [
    {
     "name": "stdout",
     "output_type": "stream",
     "text": [
      "[1, 3, 5, 7, 9, 6000, 6000, 6000]\n"
     ]
    }
   ],
   "source": [
    "numbers.append(6000)\n",
    "numbers.append(6000)\n",
    "print(numbers)\n"
   ]
  },
  {
   "cell_type": "code",
   "execution_count": 17,
   "id": "13a270a9",
   "metadata": {},
   "outputs": [
    {
     "data": {
      "text/plain": [
       "3"
      ]
     },
     "execution_count": 17,
     "metadata": {},
     "output_type": "execute_result"
    }
   ],
   "source": [
    "numbers.count(6000)"
   ]
  },
  {
   "cell_type": "code",
   "execution_count": 3,
   "id": "1d18d2fa",
   "metadata": {},
   "outputs": [
    {
     "name": "stdout",
     "output_type": "stream",
     "text": [
      "[1, 3, 5, 7, 9, 'mohamed', 'ahmed', 'hassan']\n"
     ]
    },
    {
     "data": {
      "text/plain": [
       "['mohamed', 'ahmed']"
      ]
     },
     "execution_count": 3,
     "metadata": {},
     "output_type": "execute_result"
    }
   ],
   "source": [
    "names =['mohamed','ahmed' ,'hassan']\n",
    "numbers=[1,3,5,7,9]\n",
    "numbers.extend(names)\n",
    "print(numbers)\n",
    "names.pop()\n",
    "names"
   ]
  },
  {
   "cell_type": "code",
   "execution_count": 20,
   "id": "f7e0b0c1",
   "metadata": {},
   "outputs": [
    {
     "data": {
      "text/plain": [
       "1"
      ]
     },
     "execution_count": 20,
     "metadata": {},
     "output_type": "execute_result"
    }
   ],
   "source": [
    "names.index('ahmed')"
   ]
  },
  {
   "cell_type": "code",
   "execution_count": 4,
   "id": "d13e6eef",
   "metadata": {},
   "outputs": [
    {
     "data": {
      "text/plain": [
       "['hassan', 'ahmed', 'mohamed']"
      ]
     },
     "execution_count": 4,
     "metadata": {},
     "output_type": "execute_result"
    }
   ],
   "source": [
    "names =['mohamed','ahmed' ,'hassan']\n",
    "names.reverse()\n",
    "names"
   ]
  },
  {
   "cell_type": "code",
   "execution_count": 5,
   "id": "34972a52",
   "metadata": {},
   "outputs": [
    {
     "data": {
      "text/plain": [
       "['ahmed', 'hassan', 'mohamed']"
      ]
     },
     "execution_count": 5,
     "metadata": {},
     "output_type": "execute_result"
    }
   ],
   "source": [
    "names.sort()\n",
    "names"
   ]
  },
  {
   "cell_type": "code",
   "execution_count": 7,
   "id": "b4d04a73",
   "metadata": {},
   "outputs": [
    {
     "name": "stdout",
     "output_type": "stream",
     "text": [
      "<class 'list'>\n",
      "<class 'tuple'>\n"
     ]
    }
   ],
   "source": [
    "names =['mohamed','ahmed' ,'hassan']\n",
    "namesT =('mohamed','ahmed' ,'hassan')\n",
    "print (type(names))\n",
    "print (type(namesT))"
   ]
  },
  {
   "cell_type": "code",
   "execution_count": 8,
   "id": "2f4201d9",
   "metadata": {},
   "outputs": [
    {
     "data": {
      "text/plain": [
       "'hazem'"
      ]
     },
     "execution_count": 8,
     "metadata": {},
     "output_type": "execute_result"
    }
   ],
   "source": [
    "search={\"name\" :\"hazem\" ,\"age\":26}\n",
    "search[\"name\"]"
   ]
  },
  {
   "cell_type": "code",
   "execution_count": 10,
   "id": "dbbb6ad7",
   "metadata": {},
   "outputs": [
    {
     "data": {
      "text/plain": [
       "{'name': 'yousra', 'age': 26}"
      ]
     },
     "execution_count": 10,
     "metadata": {},
     "output_type": "execute_result"
    }
   ],
   "source": [
    "search['name']='yousra'\n",
    "search"
   ]
  },
  {
   "cell_type": "code",
   "execution_count": 17,
   "id": "385cfcb7",
   "metadata": {
    "scrolled": true
   },
   "outputs": [
    {
     "data": {
      "text/plain": [
       "{'name': 'hazem', 'age': 26}"
      ]
     },
     "execution_count": 17,
     "metadata": {},
     "output_type": "execute_result"
    }
   ],
   "source": [
    "#el(search['age'])\n",
    "#earch\n",
    " #l (search)\n",
    "search"
   ]
  },
  {
   "cell_type": "code",
   "execution_count": 18,
   "id": "ac137ad2",
   "metadata": {},
   "outputs": [
    {
     "data": {
      "text/plain": [
       "2"
      ]
     },
     "execution_count": 18,
     "metadata": {},
     "output_type": "execute_result"
    }
   ],
   "source": [
    "search={\"name\" :\"hazem\" ,\"age\":26}\n",
    "len(search)"
   ]
  },
  {
   "cell_type": "code",
   "execution_count": 4,
   "id": "c3bf8039",
   "metadata": {},
   "outputs": [
    {
     "data": {
      "text/plain": [
       "dict_items([('name', 'hazem'), ('age', 26), ('salary', 9000)])"
      ]
     },
     "execution_count": 4,
     "metadata": {},
     "output_type": "execute_result"
    }
   ],
   "source": [
    "dic1={\"name\" :\"hazem\" ,\"age\":26 ,'salary':9000}\n",
    "dic2=dic1.copy()\n",
    "dic2\n",
    "dic1[\"name\"]\n",
    "dic1.get('name')\n",
    "dic1.items()"
   ]
  },
  {
   "cell_type": "code",
   "execution_count": 1,
   "id": "efa1a07e",
   "metadata": {},
   "outputs": [
    {
     "ename": "SyntaxError",
     "evalue": "EOL while scanning string literal (Temp/ipykernel_3416/3821868000.py, line 1)",
     "output_type": "error",
     "traceback": [
      "\u001b[1;36m  File \u001b[1;32m\"C:\\Users\\BENT-O~1\\AppData\\Local\\Temp/ipykernel_3416/3821868000.py\"\u001b[1;36m, line \u001b[1;32m1\u001b[0m\n\u001b[1;33m    list1={'names','ages','salary;}\u001b[0m\n\u001b[1;37m                                   ^\u001b[0m\n\u001b[1;31mSyntaxError\u001b[0m\u001b[1;31m:\u001b[0m EOL while scanning string literal\n"
     ]
    }
   ],
   "source": [
    "list1={'names','ages','salary;}\n",
    "dic3=dict.fromkeys(list1)\n",
    "dic3"
   ]
  },
  {
   "cell_type": "code",
   "execution_count": 5,
   "id": "f89e567f",
   "metadata": {},
   "outputs": [
    {
     "data": {
      "text/plain": [
       "dict_values(['hazem', 26, 9000])"
      ]
     },
     "execution_count": 5,
     "metadata": {},
     "output_type": "execute_result"
    }
   ],
   "source": [
    "dic1.values()"
   ]
  },
  {
   "cell_type": "code",
   "execution_count": 6,
   "id": "14007391",
   "metadata": {},
   "outputs": [
    {
     "data": {
      "text/plain": [
       "'i'"
      ]
     },
     "execution_count": 6,
     "metadata": {},
     "output_type": "execute_result"
    }
   ],
   "source": [
    "msg='welcome ya bn ami'\n",
    "msg[-1]"
   ]
  },
  {
   "cell_type": "code",
   "execution_count": 7,
   "id": "f8a178a2",
   "metadata": {},
   "outputs": [
    {
     "data": {
      "text/plain": [
       "'welcome ya bn amiwelcome ya bn amiwelcome ya bn ami'"
      ]
     },
     "execution_count": 7,
     "metadata": {},
     "output_type": "execute_result"
    }
   ],
   "source": [
    "msg*3"
   ]
  },
  {
   "cell_type": "code",
   "execution_count": 8,
   "id": "00981cd7",
   "metadata": {},
   "outputs": [
    {
     "data": {
      "text/plain": [
       "'com'"
      ]
     },
     "execution_count": 8,
     "metadata": {},
     "output_type": "execute_result"
    }
   ],
   "source": [
    "msg[3:6]"
   ]
  },
  {
   "cell_type": "code",
   "execution_count": 9,
   "id": "6976aa67",
   "metadata": {},
   "outputs": [
    {
     "data": {
      "text/plain": [
       "'welcom'"
      ]
     },
     "execution_count": 9,
     "metadata": {},
     "output_type": "execute_result"
    }
   ],
   "source": [
    "msg[:6]"
   ]
  },
  {
   "cell_type": "code",
   "execution_count": 10,
   "id": "7192b1a9",
   "metadata": {},
   "outputs": [
    {
     "data": {
      "text/plain": [
       "'come ya bn ami'"
      ]
     },
     "execution_count": 10,
     "metadata": {},
     "output_type": "execute_result"
    }
   ],
   "source": [
    "msg[3:]"
   ]
  },
  {
   "cell_type": "code",
   "execution_count": 14,
   "id": "0198108d",
   "metadata": {},
   "outputs": [
    {
     "name": "stdout",
     "output_type": "stream",
     "text": [
      "welcome ya \n",
      " bn ami\n"
     ]
    }
   ],
   "source": [
    "msg='welcome ya \\n bn ami'\n",
    "print (msg)"
   ]
  },
  {
   "cell_type": "code",
   "execution_count": 20,
   "id": "acba538b",
   "metadata": {},
   "outputs": [
    {
     "name": "stdout",
     "output_type": "stream",
     "text": [
      "welcome ya reda bn 3 ami\n"
     ]
    }
   ],
   "source": [
    "name='reda'\n",
    "number=3\n",
    "msg='welcome ya %s bn %d ami'%(name,number)\n",
    "print(msg)"
   ]
  },
  {
   "cell_type": "code",
   "execution_count": 21,
   "id": "ef94e2f5",
   "metadata": {},
   "outputs": [
    {
     "data": {
      "text/plain": [
       "'welcome ya reda bn 4 ami'"
      ]
     },
     "execution_count": 21,
     "metadata": {},
     "output_type": "execute_result"
    }
   ],
   "source": [
    "msg.replace('3','4')"
   ]
  },
  {
   "cell_type": "code",
   "execution_count": 22,
   "id": "476b4bd6",
   "metadata": {},
   "outputs": [
    {
     "data": {
      "text/plain": [
       "24"
      ]
     },
     "execution_count": 22,
     "metadata": {},
     "output_type": "execute_result"
    }
   ],
   "source": [
    "len(msg)"
   ]
  },
  {
   "cell_type": "code",
   "execution_count": 23,
   "id": "1d759ca2",
   "metadata": {},
   "outputs": [
    {
     "data": {
      "text/plain": [
       "21"
      ]
     },
     "execution_count": 23,
     "metadata": {},
     "output_type": "execute_result"
    }
   ],
   "source": [
    "msg.index('ami')"
   ]
  },
  {
   "cell_type": "code",
   "execution_count": 24,
   "id": "9e827149",
   "metadata": {},
   "outputs": [
    {
     "data": {
      "text/plain": [
       "'Ali'"
      ]
     },
     "execution_count": 24,
     "metadata": {},
     "output_type": "execute_result"
    }
   ],
   "source": [
    "msg='ali'\n",
    "msg.capitalize()"
   ]
  },
  {
   "cell_type": "code",
   "execution_count": null,
   "id": "e2acf7f9",
   "metadata": {},
   "outputs": [],
   "source": []
  }
 ],
 "metadata": {
  "kernelspec": {
   "display_name": "Python 3 (ipykernel)",
   "language": "python",
   "name": "python3"
  },
  "language_info": {
   "codemirror_mode": {
    "name": "ipython",
    "version": 3
   },
   "file_extension": ".py",
   "mimetype": "text/x-python",
   "name": "python",
   "nbconvert_exporter": "python",
   "pygments_lexer": "ipython3",
   "version": "3.9.7"
  }
 },
 "nbformat": 4,
 "nbformat_minor": 5
}
