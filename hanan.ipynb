{
 "cells": [
  {
   "cell_type": "code",
   "execution_count": 1,
   "id": "58adb5cb",
   "metadata": {},
   "outputs": [
    {
     "name": "stdout",
     "output_type": "stream",
     "text": [
      "hello\n"
     ]
    }
   ],
   "source": [
    " print(\"hello\")"
   ]
  },
  {
   "cell_type": "markdown",
   "id": "8a9dc263",
   "metadata": {},
   "source": [
    "2-5"
   ]
  },
  {
   "cell_type": "markdown",
   "id": "e9f951cf",
   "metadata": {},
   "source": [
    "alsan\n"
   ]
  },
  {
   "cell_type": "code",
   "execution_count": 3,
   "id": "0669fc45",
   "metadata": {},
   "outputs": [
    {
     "data": {
      "text/plain": [
       "-3"
      ]
     },
     "execution_count": 3,
     "metadata": {},
     "output_type": "execute_result"
    }
   ],
   "source": [
    "2-5"
   ]
  },
  {
   "cell_type": "markdown",
   "id": "56877b18",
   "metadata": {},
   "source": [
    "jkhjh"
   ]
  },
  {
   "cell_type": "code",
   "execution_count": null,
   "id": "03043a05",
   "metadata": {},
   "outputs": [],
   "source": []
  }
 ],
 "metadata": {
  "kernelspec": {
   "display_name": "Python 3 (ipykernel)",
   "language": "python",
   "name": "python3"
  },
  "language_info": {
   "codemirror_mode": {
    "name": "ipython",
    "version": 3
   },
   "file_extension": ".py",
   "mimetype": "text/x-python",
   "name": "python",
   "nbconvert_exporter": "python",
   "pygments_lexer": "ipython3",
   "version": "3.9.7"
  }
 },
 "nbformat": 4,
 "nbformat_minor": 5
}
